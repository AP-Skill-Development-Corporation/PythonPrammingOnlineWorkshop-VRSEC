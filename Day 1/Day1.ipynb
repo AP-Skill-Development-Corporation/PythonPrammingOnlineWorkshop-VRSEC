{
 "cells": [
  {
   "cell_type": "markdown",
   "metadata": {},
   "source": [
    "<h1 align=center>Literate Programming</h1>"
   ]
  },
  {
   "cell_type": "markdown",
   "metadata": {},
   "source": [
    " #### Keyboard Shortcuts\n",
    " M - markdown mode\n",
    " \n",
    " Y - code mode\n",
    " \n",
    " shift + enter => It will run the cell and create a new cell below\n",
    " \n",
    " Cntrl + enter => It will run the cell\n",
    " \n",
    " A - To create a new cell above the present cell\n",
    " \n",
    " B - To create a new cell below the present cell\n",
    " \n",
    " DD - To delete the cell"
   ]
  },
  {
   "cell_type": "markdown",
   "metadata": {},
   "source": [
    "# Heading 1\n",
    "## Heading 2\n",
    "### Heading 3\n",
    "#### Heading 4\n",
    "##### Heading 5\n",
    "###### Heading 6"
   ]
  },
  {
   "cell_type": "markdown",
   "metadata": {},
   "source": [
    "### Unordered list\n",
    "* Line 1\n",
    "    - sub list 1\n",
    "        - element 1\n",
    "    - sub list 2\n",
    "- Line 2\n",
    "- Line 3"
   ]
  },
  {
   "cell_type": "markdown",
   "metadata": {},
   "source": [
    "### Ordered list\n",
    "\n",
    "##### Numbers\n",
    "10. Line 1\n",
    "    1. sub list 1\n",
    "        1. element 1\n",
    "8. Line 2\n",
    "4. Line 3"
   ]
  },
  {
   "cell_type": "markdown",
   "metadata": {},
   "source": [
    "- [APSSDC REGISTRATION](http://engineering.apssdc.in/register/)\n",
    "- [VRSEC](https://www.vrsiddhartha.ac.in)"
   ]
  },
  {
   "cell_type": "markdown",
   "metadata": {},
   "source": [
    "### Web development Technologies\n",
    "- HTML\n",
    "- CSS\n",
    "- Jacascript\n",
    "- Frameworks\n",
    "    - React\n",
    "    - Django\n",
    "    - Flask"
   ]
  },
  {
   "cell_type": "markdown",
   "metadata": {},
   "source": [
    "![](https://yt3.ggpht.com/a-/AAuE7mAIGeahvZm8E-ypOr0JmczwzuKdjcuIXCoNcQ=s900-mo-c-c0xffffffff-rj-k-no)"
   ]
  },
  {
   "cell_type": "markdown",
   "metadata": {},
   "source": [
    "![image](picture.jpg)"
   ]
  },
  {
   "cell_type": "code",
   "execution_count": null,
   "metadata": {},
   "outputs": [],
   "source": []
  }
 ],
 "metadata": {
  "kernelspec": {
   "display_name": "Python 3",
   "language": "python",
   "name": "python3"
  },
  "language_info": {
   "codemirror_mode": {
    "name": "ipython",
    "version": 3
   },
   "file_extension": ".py",
   "mimetype": "text/x-python",
   "name": "python",
   "nbconvert_exporter": "python",
   "pygments_lexer": "ipython3",
   "version": "3.6.8"
  }
 },
 "nbformat": 4,
 "nbformat_minor": 4
}
